{
 "cells": [
  {
   "cell_type": "markdown",
   "metadata": {},
   "source": [
    "IMPORTING MODULES"
   ]
  },
  {
   "cell_type": "code",
   "execution_count": null,
   "metadata": {},
   "outputs": [],
   "source": [
    "import torch\n",
    "from torch import nn\n",
    "from torch.utils.data import DataLoader\n",
    "from torch.utils.data import Dataset\n",
    "from torchvision import datasets, transforms\n",
    "\n",
    "import requests\n",
    "import zipfile\n",
    "import pathlib\n",
    "from pathlib import Path\n",
    "\n",
    "import random \n",
    "from PIL import Image\n",
    "\n",
    "import numpy as np\n",
    "import matplotlib.pyplot as plt\n",
    "\n",
    "import os\n",
    "\n",
    "from typing import Tuple, Dict, List"
   ]
  },
  {
   "cell_type": "markdown",
   "metadata": {},
   "source": [
    "HYPERPARAMETERS"
   ]
  },
  {
   "cell_type": "code",
   "execution_count": 2,
   "metadata": {},
   "outputs": [],
   "source": [
    "INPUT_SHAPE = 0\n",
    "HIDDEN_UNITS = 0\n",
    "OUPUT_SHAPE = 3\n",
    "\n",
    "BATCH_SIZE = 8\n",
    "NUM_WORKERS = os.cpu_count()\n",
    "EPOCHS = 20\n",
    "DEVICE = \"cuda\" if torch.cuda.is_available() else \"cpu\""
   ]
  },
  {
   "cell_type": "markdown",
   "metadata": {},
   "source": [
    "Downloading Dataset"
   ]
  },
  {
   "cell_type": "code",
   "execution_count": null,
   "metadata": {},
   "outputs": [],
   "source": [
    "data_path = Path(\"data/\")\n",
    "image_path = data_path / \"pizza_steak_sushi\"\n",
    "\n",
    "if image_path.is_dir():\n",
    "    print(f\"{image_path} directory already exists\")\n",
    "else:\n",
    "    print(f\"creating {image_path}...\")\n",
    "    image_path.mkdir(parents=True, exist_ok=True)\n",
    "\n",
    "with open(data_path / \"pizza_steak_sushi.zip\", \"wb\") as f:\n",
    "    request = requests.get(\"https://github.com/mrdbourke/pytorch-deep-learning/raw/main/data/pizza_steak_sushi.zip\")\n",
    "    print(\"Downloading pizza, steak, sushi data...\")\n",
    "    f.write(request.content)\n",
    "\n",
    "with zipfile.ZipFile(data_path / \"pizza_steak_sushi.zip\", \"r\") as zip_ref:\n",
    "    print(f\"Unziping pizza, steak, sushi data...\")\n",
    "    zip_ref.extractall(image_path)\n",
    "\n",
    "print(\"DONE!\")\n"
   ]
  },
  {
   "cell_type": "markdown",
   "metadata": {},
   "source": [
    "SETTING DATA"
   ]
  },
  {
   "cell_type": "code",
   "execution_count": null,
   "metadata": {},
   "outputs": [],
   "source": [
    "train_dir = image_path / \"train\"\n",
    "test_dir = image_path / \"test\"\n",
    "\n",
    "random.seed(42)\n",
    "# Get all image paths\n",
    "image_path_list = list(image_path.glob(\"*/*/*.jpg\"))\n",
    "\n",
    "# Pick a random image path\n",
    "random_image_path = random.choice(image_path_list)\n",
    "\n",
    "# Get image class from path name \n",
    "image_class = random_image_path.parent.stem\n",
    "print(image_class)\n",
    "\n",
    "# Open image\n",
    "img = Image.open(random_image_path)\n",
    "\n",
    "# Print metadata\n",
    "print(f\"Random image path: {random_image_path}\")\n",
    "print(f\"Image class: {image_class}\")\n",
    "print(f\"Image height: {img.height}\")\n",
    "print(f\"Image width: {img.width}\")\n",
    "\n",
    "img_as_array = np.array(img)\n",
    "\n",
    "plt.figure(figsize=(5, 5))\n",
    "plt.imshow(img_as_array)\n",
    "plt.title(f\"Image class: {image_class} | Image_shape: {img_as_array.shape}\")\n",
    "plt.axis(False)"
   ]
  },
  {
   "cell_type": "markdown",
   "metadata": {},
   "source": [
    "CREATING A CUSTOM DATASET"
   ]
  },
  {
   "cell_type": "code",
   "execution_count": 5,
   "metadata": {},
   "outputs": [],
   "source": [
    "class ImageFolderCustom(Dataset):\n",
    "    \n",
    "    def __find_classes(self, directory: str) -> Tuple[List[str], Dict[str, int]]:\n",
    "        # Get the class names by scanning the target directory\n",
    "        classes = sorted([entry.name for entry in list(os.scandir(directory))])\n",
    "        \n",
    "        # Raise an error if class names coult not be found\n",
    "        if not classes:\n",
    "            raise FileNotFoundError(f\"!Couldn't find any classes in {directory}!\\nPlease check file structure\")\n",
    "        \n",
    "        # Create a dictionary of index labels\n",
    "        class_to_idx = {class_name: i for i, class_name in enumerate(classes)}\n",
    "        \n",
    "        return classes, class_to_idx\n",
    "\n",
    "    def __init__(self, targ_dir: str, transform=None):\n",
    "        # Get all of the image paths\n",
    "        self.paths = list(pathlib.Path(targ_dir).glob(\"*/*.jpg\"))\n",
    "        # Setup transform\n",
    "        self.transform = transform\n",
    "        # Create classes and class_to_idx attributes\n",
    "        self.classes, self.class_to_idx = self.__find_classes(targ_dir)\n",
    "    \n",
    "    def load_image(self, index: int) -> Image.Image:\n",
    "        image_path = self.paths[index]\n",
    "        return Image.open(image_path)\n",
    "    \n",
    "    def __len__(self) -> int:\n",
    "        return len(self.paths)\n",
    "    \n",
    "    def __getitem__(self, index: int) -> Tuple[torch.Tensor, int]:\n",
    "        img = self.load_image(index)\n",
    "        class_name = self.paths[index].parent.name\n",
    "        class_idx = self.class_to_idx[class_name]\n",
    "        \n",
    "        if self.transform:\n",
    "            return self.transform(img), class_idx\n",
    "        else:\n",
    "            return img, class_idx\n"
   ]
  },
  {
   "cell_type": "code",
   "execution_count": null,
   "metadata": {},
   "outputs": [],
   "source": [
    "train_transform = transforms.Compose([\n",
    "    transforms.Resize(size=(64, 64)),\n",
    "    transforms.RandomHorizontalFlip(p=0.5),\n",
    "    transforms.ToTensor()\n",
    "])\n",
    "\n",
    "test_transform = transforms.Compose([\n",
    "    transforms.Resize(size=(64, 64)),\n",
    "    transforms.ToTensor()\n",
    "])\n",
    "\n",
    "train_data_custom = ImageFolderCustom(targ_dir=train_dir,\n",
    "                                      transform=train_transform)\n",
    "test_data_custom = ImageFolderCustom(targ_dir=test_dir,\n",
    "                                     transform=test_transform)\n",
    "\n",
    "train_dataloader = DataLoader(dataset=train_data_custom,\n",
    "                              batch_size=BATCH_SIZE,\n",
    "                              num_workers=0,\n",
    "                              shuffle=True)\n",
    "\n",
    "test_dataloader = DataLoader(dataset=test_data_custom,\n",
    "                             batch_size=8,\n",
    "                             num_workers=0,\n",
    "                             shuffle=False)\n",
    "\n",
    "img, label = next(iter(train_dataloader))\n",
    "img, label"
   ]
  },
  {
   "cell_type": "markdown",
   "metadata": {},
   "source": [
    "VISUALIZING DATASET"
   ]
  },
  {
   "cell_type": "code",
   "execution_count": 9,
   "metadata": {},
   "outputs": [],
   "source": [
    "def display_random_images(dataset: torch.utils.data.Dataset,\n",
    "                          classes: List[str] = None,\n",
    "                          n: int = 10,\n",
    "                          display_shape: bool = True,\n",
    "                          seed: int = None):\n",
    "    # Adjust display if n is too high\n",
    "    if n > 10:\n",
    "        n = 10\n",
    "        display_shape = False\n",
    "        print(f\"For display purposes, n shouldn't be larger than 10. Setting to 10 and removing shape display.\")\n",
    "\n",
    "    # Set the seed\n",
    "    if seed:\n",
    "        random.seed(seed)\n",
    "\n",
    "    # Get random sample indexes\n",
    "    random_samples_idx = random.sample(range(len(dataset)), k=n)\n",
    "\n",
    "    # Setup plot\n",
    "    plt.figure(figsize=(16, 8))\n",
    "\n",
    "    # Loop through random indexes and plot them\n",
    "    for i, targ_sample in enumerate(random_samples_idx):\n",
    "        targ_image, targ_label = dataset[targ_sample][0], dataset[targ_sample][1]\n",
    "\n",
    "        # Adjust tensor dimensions for plotting\n",
    "        targ_image_adjust = targ_image.permute(1, 2, 0)\n",
    "\n",
    "        # Plot adjusted samples\n",
    "        plt.subplot(1, n, i+1)\n",
    "        plt.imshow(targ_image_adjust)\n",
    "        plt.axis(\"off\")\n",
    "        if classes:\n",
    "            title = f\"Class: {classes[targ_label]}({targ_sample})\"\n",
    "            if display_shape:\n",
    "                title = title + f\"\\nShape: {targ_image_adjust.shape}\"\n",
    "        plt.title(title)  "
   ]
  },
  {
   "cell_type": "code",
   "execution_count": null,
   "metadata": {},
   "outputs": [],
   "source": [
    "display_random_images(train_data_custom,\n",
    "                      n=5,\n",
    "                      classes=train_data_custom.classes,\n",
    "                      seed=None)"
   ]
  },
  {
   "cell_type": "code",
   "execution_count": null,
   "metadata": {},
   "outputs": [],
   "source": []
  }
 ],
 "metadata": {
  "kernelspec": {
   "display_name": "Python 3",
   "language": "python",
   "name": "python3"
  },
  "language_info": {
   "codemirror_mode": {
    "name": "ipython",
    "version": 3
   },
   "file_extension": ".py",
   "mimetype": "text/x-python",
   "name": "python",
   "nbconvert_exporter": "python",
   "pygments_lexer": "ipython3",
   "version": "3.10.6"
  }
 },
 "nbformat": 4,
 "nbformat_minor": 2
}
